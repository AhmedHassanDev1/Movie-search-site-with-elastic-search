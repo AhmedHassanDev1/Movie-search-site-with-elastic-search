{
 "cells": [
  {
   "cell_type": "code",
   "execution_count": null,
   "metadata": {},
   "outputs": [],
   "source": [
    "from elasticsearch import Elasticsearch\n",
    "from sentence_transformers import SentenceTransformer\n",
    "import json\n",
    "import re\n",
    "from genresLists import TVList, movieList\n"
   ]
  },
  {
   "cell_type": "code",
   "execution_count": null,
   "metadata": {},
   "outputs": [],
   "source": [
    "client = Elasticsearch('http://localhost:9200')\n"
   ]
  },
  {
   "cell_type": "code",
   "execution_count": null,
   "metadata": {},
   "outputs": [],
   "source": [
    "model = SentenceTransformer('all-MPNet-base-v2')\n"
   ]
  },
  {
   "cell_type": "code",
   "execution_count": null,
   "metadata": {},
   "outputs": [],
   "source": [
    "client.info()\n"
   ]
  },
  {
   "cell_type": "code",
   "execution_count": null,
   "metadata": {},
   "outputs": [],
   "source": [
    "mapping = {\n",
    "    \"properties\": {\n",
    "       \n",
    "        \"title\": {\n",
    "            \"type\": \"text\"\n",
    "        },\n",
    "        \"overview\": {\n",
    "            \"type\": \"text\"\n",
    "        },\n",
    "        \"poster_path\": {\n",
    "            \"type\": \"keyword\"\n",
    "        },\n",
    "        \"backdrop_path\": {\n",
    "            \"type\": \"keyword\"\n",
    "        },\n",
    "        \"rate\": {\n",
    "            \"type\": \"float\"\n",
    "        },\n",
    "        \"date\": {\n",
    "            \"type\": \"date\"\n",
    "        },\n",
    "        \"type\": {\n",
    "            \"type\": \"keyword\"\n",
    "        },\n",
    "        \"embedding_vector\": {\n",
    "            \"type\": \"dense_vector\",\n",
    "            \"dims\": 768 \n",
    "        },\n",
    "\n",
    "    }\n",
    "}\n"
   ]
  },
  {
   "cell_type": "code",
   "execution_count": null,
   "metadata": {},
   "outputs": [],
   "source": [
    "client.indices.delete(index='movies', ignore_unavailable=True)\n",
    "client.indices.create(\n",
    "    index='movies',\n",
    "    mappings=mapping,\n",
    ")\n"
   ]
  },
  {
   "cell_type": "code",
   "execution_count": null,
   "metadata": {},
   "outputs": [],
   "source": [
    "movies_file_json_path = '../data/movies.data.json'\n",
    "tv_file_json_path = '../data/TV.data.json'\n"
   ]
  },
  {
   "cell_type": "code",
   "execution_count": null,
   "metadata": {},
   "outputs": [],
   "source": [
    "documents = []\n",
    "with open(movies_file_json_path, 'r') as file:\n",
    "    movies = json.load(file)\n",
    "    documents.extend(movies['movies'])\n",
    "with open(tv_file_json_path, 'r') as file:\n",
    "    series = json.load(file)\n",
    "    documents.extend(series['tv'])"
   ]
  },
  {
   "cell_type": "code",
   "execution_count": null,
   "metadata": {},
   "outputs": [],
   "source": [
    "# prepocessing \n",
    "unique_documents = []\n",
    "delete_count = 0\n",
    "\n",
    "for doc in documents:\n",
    "    if doc not in unique_documents:  \n",
    "        unique_documents.append(doc)\n",
    "    else:\n",
    "        delete_count += 1\n",
    "\n",
    "print(\"Count of deleted items:\", delete_count)\n",
    "print(\"Unique documents:\", unique_documents)\n",
    "documents=unique_documents\n"
   ]
  },
  {
   "cell_type": "code",
   "execution_count": null,
   "metadata": {},
   "outputs": [],
   "source": [
    "def handleGenres(type: str, genres_ids: list[int]) -> list[str]:\n",
    "    genres = []\n",
    "    if type == 'movie':\n",
    "        for el in movieList:\n",
    "            if el['id'] in genres_ids:\n",
    "                genres.append(el['name'])\n",
    "    elif type == 'tv':\n",
    "        for el in TVList:\n",
    "            if el['id'] in genres_ids:\n",
    "                genres.append(el['name'])\n",
    "    return genres \n"
   ]
  },
  {
   "cell_type": "code",
   "execution_count": null,
   "metadata": {},
   "outputs": [],
   "source": [
    "\n",
    "index=0\n",
    "   \n",
    "for el in documents:\n",
    "  try: \n",
    "     \n",
    "     doc = {\n",
    "          \"title\": re.sub(r'[\",\\\\]', '', el.get('title','')),\n",
    "          \"overview\": re.sub(r'[\",\\\\]', '', el.get('overview')),\n",
    "          \"genres\": handleGenres(el['type'], el.get('genres',[])),\n",
    "          \"poster_path\": el.get(\"poster_path\",'') ,\n",
    "          \"backdrop_path\":  el.get(\"backdrop_path\",'') ,\n",
    "          \"rate\": el.get('rate',0),\n",
    "          \"type\": el.get('type',''),\n",
    "          \"date\": el.get('date',''),\n",
    "          \"embedding_vector\": model.encode(el.get('overview',' ')),\n",
    "          \"tmdb_id\":el.get('id'),\n",
    "      }\n",
    "\n",
    "     client.index(\n",
    "          index='movies',\n",
    "          document=doc\n",
    "      )\n",
    "     index+=1  \n",
    "  except Exception as e:\n",
    "        print(f\"An error occurred while adding document number. {index}: {e}\")\n"
   ]
  },
  {
   "cell_type": "code",
   "execution_count": null,
   "metadata": {},
   "outputs": [],
   "source": [
    "client.count(index='movies')"
   ]
  },
  {
   "cell_type": "code",
   "execution_count": null,
   "metadata": {},
   "outputs": [],
   "source": [
    "len(documents)"
   ]
  },
  {
   "cell_type": "code",
   "execution_count": null,
   "metadata": {},
   "outputs": [],
   "source": []
  }
 ],
 "metadata": {
  "kernelspec": {
   "display_name": "Python 3",
   "language": "python",
   "name": "python3"
  },
  "language_info": {
   "codemirror_mode": {
    "name": "ipython",
    "version": 3
   },
   "file_extension": ".py",
   "mimetype": "text/x-python",
   "name": "python",
   "nbconvert_exporter": "python",
   "pygments_lexer": "ipython3",
   "version": "3.11.3"
  },
  "orig_nbformat": 4
 },
 "nbformat": 4,
 "nbformat_minor": 2
}
