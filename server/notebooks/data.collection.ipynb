{
 "cells": [
  {
   "cell_type": "code",
   "execution_count": 69,
   "metadata": {},
   "outputs": [],
   "source": [
    "import requests\n",
    "from dotenv import load_dotenv\n",
    "import os\n",
    "import json"
   ]
  },
  {
   "cell_type": "code",
   "execution_count": 70,
   "metadata": {},
   "outputs": [],
   "source": [
    "load_dotenv()\n",
    "secret_token = os.getenv(\"TMDB_API_SECRET\")\n",
    "movie_api = os.getenv(\"TMDB_MOVIES_API\")\n",
    "tv_api = os.getenv(\"TMDB_TV_API\")"
   ]
  },
  {
   "cell_type": "code",
   "execution_count": 71,
   "metadata": {},
   "outputs": [],
   "source": [
    "params={\n",
    "    \"language\":\"en-US\",\n",
    "    \"include_adult\":True,\n",
    "    \"sort_by\":\"popularity.desc\",\n",
    "    \"page\":1\n",
    "}\n",
    "headers={\n",
    "    \"authorization\":\"Bearer \"+secret_token,\n",
    "    \"Accept\":\"*/*\"\n",
    "}"
   ]
  },
  {
   "cell_type": "code",
   "execution_count": 93,
   "metadata": {},
   "outputs": [],
   "source": [
    "movies_file_json_path='../data/movies.data.json'\n",
    "tv_file_json_path='../data/TV.data.json'"
   ]
  },
  {
   "cell_type": "code",
   "execution_count": 84,
   "metadata": {},
   "outputs": [],
   "source": []
  },
  {
   "cell_type": "code",
   "execution_count": 89,
   "metadata": {},
   "outputs": [],
   "source": [
    "# collection movies \n",
    "with open(movies_file_json_path, \"r\") as file:\n",
    "     data = json.load(file)\n",
    "COUNT_PAGES=300\n",
    "for page in range(COUNT_PAGES):\n",
    "   movies=[]\n",
    "   params['page']=page+1\n",
    "   res=requests.get(movie_api,params=params,headers=headers)\n",
    "   results=res.json()['results']\n",
    "   for el in results:\n",
    "       movie={\n",
    "          \"id\":el['id'],\n",
    "          \"genres\":el['genre_ids'],\n",
    "          \"title\":el[\"title\"],\n",
    "          \"overview\":el['overview'],\n",
    "          \"poster_path\":el['poster_path'],\n",
    "          \"backdrop_path\":el[\"backdrop_path\"],\n",
    "          \"rate\":el['vote_average'],\n",
    "          \"date\":el[\"release_date\"],\n",
    "          \"type\":\"movie\"\n",
    "       }  \n",
    "       movies.append(movie)\n",
    "   data['movies'].extend(movies)\n",
    "   with open(movies_file_json_path, \"w\") as file:\n",
    "        json.dump(data, file, indent=4)\n"
   ]
  },
  {
   "cell_type": "code",
   "execution_count": 94,
   "metadata": {},
   "outputs": [],
   "source": [
    "# collection series \n",
    "\n",
    "with open(tv_file_json_path, \"r\") as file:\n",
    "     data = json.load(file)\n",
    "COUNT_PAGES=300\n",
    "for page in range(COUNT_PAGES):\n",
    "   series=[]\n",
    "   params['page']=page+1\n",
    "   res=requests.get(tv_api,params=params,headers=headers)\n",
    "   results=res.json()['results']\n",
    "   for el in results:\n",
    "       item={\n",
    "          \"id\":el['id'],\n",
    "          \"genres\":el['genre_ids'],\n",
    "          \"title\":el[\"name\"],\n",
    "          \"overview\":el['overview'],\n",
    "          \"poster_path\":el['poster_path'],\n",
    "          \"backdrop_path\":el[\"backdrop_path\"],\n",
    "          \"rate\":el['vote_average'],\n",
    "          \"date\":el[\"first_air_date\"],\n",
    "          \"type\":\"tv\"\n",
    "       }  \n",
    "       series.append(item)\n",
    "   data['tv'].extend(series)\n",
    "   with open(tv_file_json_path, \"w\") as file:\n",
    "        json.dump(data, file, indent=4)\n"
   ]
  },
  {
   "cell_type": "code",
   "execution_count": null,
   "metadata": {},
   "outputs": [],
   "source": []
  }
 ],
 "metadata": {
  "kernelspec": {
   "display_name": "movies-research-website",
   "language": "python",
   "name": "python3"
  },
  "language_info": {
   "codemirror_mode": {
    "name": "ipython",
    "version": 3
   },
   "file_extension": ".py",
   "mimetype": "text/x-python",
   "name": "python",
   "nbconvert_exporter": "python",
   "pygments_lexer": "ipython3",
   "version": "3.11.3"
  },
  "orig_nbformat": 4
 },
 "nbformat": 4,
 "nbformat_minor": 2
}
